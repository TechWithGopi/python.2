{
 "cells": [
  {
   "cell_type": "code",
   "execution_count": 4,
   "metadata": {},
   "outputs": [
    {
     "name": "stdout",
     "output_type": "stream",
     "text": [
      "730\n"
     ]
    }
   ],
   "source": [
    "num1 = 310\n",
    "num2 = 420\n",
    "add = num1 + num2 \n",
    "print(add)"
   ]
  },
  {
   "cell_type": "code",
   "execution_count": 5,
   "metadata": {},
   "outputs": [
    {
     "name": "stdout",
     "output_type": "stream",
     "text": [
      "6000\n"
     ]
    }
   ],
   "source": [
    "ab = 20 \n",
    "bc = 40 \n",
    "ca = 100 \n",
    "total = (ab + bc) * (ca)\n",
    "print(total)"
   ]
  },
  {
   "cell_type": "code",
   "execution_count": 10,
   "metadata": {},
   "outputs": [
    {
     "name": "stdout",
     "output_type": "stream",
     "text": [
      "950000\n",
      "He is the SDE 2 of our company, His salary is :  800000 LPA\n"
     ]
    }
   ],
   "source": [
    "employee1 = 50000\n",
    "employee2 = 100000\n",
    "senior_employee = 800000\n",
    "total_of_the_salary_given = employee1 + employee2 + senior_employee\n",
    "print(total_of_the_salary_given)\n",
    "if senior_employee > employee1+employee2:\n",
    "    print(\"He is the SDE 2 of our company, His salary is : \", str(senior_employee) + \" LPA\" )"
   ]
  },
  {
   "cell_type": "code",
   "execution_count": 11,
   "metadata": {},
   "outputs": [
    {
     "name": "stdout",
     "output_type": "stream",
     "text": [
      "The addition of two numbers\n",
      "The number1: 240\n",
      "The number2: 489\n",
      "The Answer: 729\n"
     ]
    }
   ],
   "source": [
    "print(\"The addition of two numbers\")\n",
    "num1 = 240 \n",
    "print(\"The number1:\", num1)\n",
    "num2 = 489\n",
    "print(\"The number2:\", num2)\n",
    "add = num1 + num2 \n",
    "print(\"The Answer:\", add)"
   ]
  },
  {
   "cell_type": "code",
   "execution_count": 19,
   "metadata": {},
   "outputs": [
    {
     "name": "stdout",
     "output_type": "stream",
     "text": [
      "Total of The passengers:\n"
     ]
    }
   ],
   "source": [
    "num1 = input()\n"
   ]
  },
  {
   "cell_type": "code",
   "execution_count": 13,
   "metadata": {},
   "outputs": [
    {
     "name": "stdout",
     "output_type": "stream",
     "text": [
      "46\n"
     ]
    }
   ],
   "source": [
    "num2 = int(input())"
   ]
  },
  {
   "cell_type": "code",
   "execution_count": 20,
   "metadata": {},
   "outputs": [
    {
     "name": "stdout",
     "output_type": "stream",
     "text": [
      "Total of The passengers:46\n"
     ]
    }
   ],
   "source": [
    "print(num1 + str(num2))"
   ]
  },
  {
   "cell_type": "code",
   "execution_count": null,
   "metadata": {},
   "outputs": [],
   "source": []
  }
 ],
 "metadata": {
  "kernelspec": {
   "display_name": "Python 3",
   "language": "python",
   "name": "python3"
  },
  "language_info": {
   "codemirror_mode": {
    "name": "ipython",
    "version": 3
   },
   "file_extension": ".py",
   "mimetype": "text/x-python",
   "name": "python",
   "nbconvert_exporter": "python",
   "pygments_lexer": "ipython3",
   "version": "3.7.4"
  }
 },
 "nbformat": 4,
 "nbformat_minor": 2
}
